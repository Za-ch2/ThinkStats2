{
 "cells": [
  {
   "cell_type": "markdown",
   "id": "f7fe8e9c",
   "metadata": {},
   "source": [
    "# Does Employee Salary have an impact on Employee Attrition"
   ]
  },
  {
   "cell_type": "markdown",
   "id": "b81e2ba6",
   "metadata": {},
   "source": [
    "Zachary Campbell Week 12 Term Project DSC530 T301"
   ]
  },
  {
   "cell_type": "code",
   "execution_count": null,
   "id": "6f9ae7ce",
   "metadata": {},
   "outputs": [
    {
     "name": "stdout",
     "output_type": "stream",
     "text": [
      "Collecting git+https://github.com/AllenDowney/ThinkStats2.git\n",
      "  Cloning https://github.com/AllenDowney/ThinkStats2.git to /private/var/folders/j3/xw4kxz7j63z89b4fd2twv6lw0000gn/T/pip-req-build-awdzvq7a\n",
      "  Running command git clone --filter=blob:none --quiet https://github.com/AllenDowney/ThinkStats2.git /private/var/folders/j3/xw4kxz7j63z89b4fd2twv6lw0000gn/T/pip-req-build-awdzvq7a\n"
     ]
    }
   ],
   "source": [
    "!pip install git+https://github.com/AllenDowney/ThinkStats2.git\n",
    "!pip show thinkstats2\n",
    "import numpy as np\n",
    "from thinkstats2.thinkstats2 import *\n",
    "import thinkplot\n"
   ]
  }
 ],
 "metadata": {
  "kernelspec": {
   "display_name": "Python 3 (ipykernel)",
   "language": "python",
   "name": "python3"
  },
  "language_info": {
   "codemirror_mode": {
    "name": "ipython",
    "version": 3
   },
   "file_extension": ".py",
   "mimetype": "text/x-python",
   "name": "python",
   "nbconvert_exporter": "python",
   "pygments_lexer": "ipython3",
   "version": "3.9.13"
  }
 },
 "nbformat": 4,
 "nbformat_minor": 5
}
